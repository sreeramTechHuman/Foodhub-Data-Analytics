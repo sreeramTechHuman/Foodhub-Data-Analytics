{
 "cells": [
  {
   "cell_type": "markdown",
   "metadata": {},
   "source": [
    "# Monthly Revenue and Total order of each store"
   ]
  },
  {
   "cell_type": "markdown",
   "metadata": {},
   "source": [
    "# Importing necessary libraries"
   ]
  },
  {
   "cell_type": "code",
   "execution_count": 409,
   "metadata": {},
   "outputs": [],
   "source": [
    "import pandas as pd\n",
    "import numpy as np\n",
    "import seaborn as sb\n",
    "import matplotlib.pyplot as plt"
   ]
  },
  {
   "cell_type": "markdown",
   "metadata": {},
   "source": [
    "Getting the required data"
   ]
  },
  {
   "cell_type": "code",
   "execution_count": 410,
   "metadata": {},
   "outputs": [],
   "source": [
    "data_order = pd.read_csv(\"C:\\\\Users\\\\sreeram\\\\Desktop\\\\personal info\\\\FoodHub\\\\level2codingtest\\\\orders_test (2).csv\")\n",
    "data_store = pd.read_csv(\"C:\\\\Users\\\\sreeram\\\\Desktop\\\\personal info\\\\FoodHub\\\\level2codingtest\\\\store_test (2).csv\")"
   ]
  },
  {
   "cell_type": "code",
   "execution_count": 12,
   "metadata": {},
   "outputs": [
    {
     "name": "stdout",
     "output_type": "stream",
     "text": [
      "(1000, 5)\n",
      "(10, 3)\n"
     ]
    }
   ],
   "source": [
    "#Print the shape of \n",
    "print(data_order.shape)\n",
    "print(data_store.shape)"
   ]
  },
  {
   "cell_type": "code",
   "execution_count": 14,
   "metadata": {},
   "outputs": [
    {
     "data": {
      "text/html": [
       "<div>\n",
       "<style scoped>\n",
       "    .dataframe tbody tr th:only-of-type {\n",
       "        vertical-align: middle;\n",
       "    }\n",
       "\n",
       "    .dataframe tbody tr th {\n",
       "        vertical-align: top;\n",
       "    }\n",
       "\n",
       "    .dataframe thead th {\n",
       "        text-align: right;\n",
       "    }\n",
       "</style>\n",
       "<table border=\"1\" class=\"dataframe\">\n",
       "  <thead>\n",
       "    <tr style=\"text-align: right;\">\n",
       "      <th></th>\n",
       "      <th>id</th>\n",
       "      <th>total</th>\n",
       "      <th>customer_id</th>\n",
       "      <th>store_id</th>\n",
       "      <th>order_date</th>\n",
       "    </tr>\n",
       "  </thead>\n",
       "  <tbody>\n",
       "    <tr>\n",
       "      <th>0</th>\n",
       "      <td>1</td>\n",
       "      <td>19.36</td>\n",
       "      <td>21</td>\n",
       "      <td>1</td>\n",
       "      <td>3/3/2020</td>\n",
       "    </tr>\n",
       "    <tr>\n",
       "      <th>1</th>\n",
       "      <td>2</td>\n",
       "      <td>8.85</td>\n",
       "      <td>88</td>\n",
       "      <td>8</td>\n",
       "      <td>4/2/2020</td>\n",
       "    </tr>\n",
       "    <tr>\n",
       "      <th>2</th>\n",
       "      <td>3</td>\n",
       "      <td>5.53</td>\n",
       "      <td>41</td>\n",
       "      <td>3</td>\n",
       "      <td>3/3/2020</td>\n",
       "    </tr>\n",
       "    <tr>\n",
       "      <th>3</th>\n",
       "      <td>4</td>\n",
       "      <td>12.90</td>\n",
       "      <td>96</td>\n",
       "      <td>8</td>\n",
       "      <td>3/15/2020</td>\n",
       "    </tr>\n",
       "    <tr>\n",
       "      <th>4</th>\n",
       "      <td>5</td>\n",
       "      <td>8.19</td>\n",
       "      <td>25</td>\n",
       "      <td>7</td>\n",
       "      <td>1/21/2020</td>\n",
       "    </tr>\n",
       "  </tbody>\n",
       "</table>\n",
       "</div>"
      ],
      "text/plain": [
       "   id  total  customer_id  store_id order_date\n",
       "0   1  19.36           21         1   3/3/2020\n",
       "1   2   8.85           88         8   4/2/2020\n",
       "2   3   5.53           41         3   3/3/2020\n",
       "3   4  12.90           96         8  3/15/2020\n",
       "4   5   8.19           25         7  1/21/2020"
      ]
     },
     "execution_count": 14,
     "metadata": {},
     "output_type": "execute_result"
    }
   ],
   "source": [
    "#print Top 5 records\n",
    "\n",
    "data_order.head(5)\n"
   ]
  },
  {
   "cell_type": "code",
   "execution_count": 15,
   "metadata": {},
   "outputs": [
    {
     "data": {
      "text/html": [
       "<div>\n",
       "<style scoped>\n",
       "    .dataframe tbody tr th:only-of-type {\n",
       "        vertical-align: middle;\n",
       "    }\n",
       "\n",
       "    .dataframe tbody tr th {\n",
       "        vertical-align: top;\n",
       "    }\n",
       "\n",
       "    .dataframe thead th {\n",
       "        text-align: right;\n",
       "    }\n",
       "</style>\n",
       "<table border=\"1\" class=\"dataframe\">\n",
       "  <thead>\n",
       "    <tr style=\"text-align: right;\">\n",
       "      <th></th>\n",
       "      <th>id</th>\n",
       "      <th>name</th>\n",
       "      <th>address</th>\n",
       "    </tr>\n",
       "  </thead>\n",
       "  <tbody>\n",
       "    <tr>\n",
       "      <th>0</th>\n",
       "      <td>1</td>\n",
       "      <td>Valdez Inc</td>\n",
       "      <td>18321 Joseph Lodge\\nChristineland, NH 69026</td>\n",
       "    </tr>\n",
       "    <tr>\n",
       "      <th>1</th>\n",
       "      <td>2</td>\n",
       "      <td>Stevens-Barr</td>\n",
       "      <td>Unit 0902 Box 4445\\nDPO AE 19637</td>\n",
       "    </tr>\n",
       "    <tr>\n",
       "      <th>2</th>\n",
       "      <td>3</td>\n",
       "      <td>Taylor Ltd</td>\n",
       "      <td>3433 Hill Forest\\nCharlesmouth, KY 16037</td>\n",
       "    </tr>\n",
       "    <tr>\n",
       "      <th>3</th>\n",
       "      <td>4</td>\n",
       "      <td>Adams, Barrett and Thomas</td>\n",
       "      <td>Unit 5633 Box 1666\\nDPO AA 06032</td>\n",
       "    </tr>\n",
       "    <tr>\n",
       "      <th>4</th>\n",
       "      <td>5</td>\n",
       "      <td>Edwards-Mcdaniel</td>\n",
       "      <td>2426 Holly Isle\\nJefferytown, WA 97681</td>\n",
       "    </tr>\n",
       "  </tbody>\n",
       "</table>\n",
       "</div>"
      ],
      "text/plain": [
       "   id                       name                                      address\n",
       "0   1                 Valdez Inc  18321 Joseph Lodge\\nChristineland, NH 69026\n",
       "1   2               Stevens-Barr             Unit 0902 Box 4445\\nDPO AE 19637\n",
       "2   3                 Taylor Ltd     3433 Hill Forest\\nCharlesmouth, KY 16037\n",
       "3   4  Adams, Barrett and Thomas             Unit 5633 Box 1666\\nDPO AA 06032\n",
       "4   5           Edwards-Mcdaniel       2426 Holly Isle\\nJefferytown, WA 97681"
      ]
     },
     "execution_count": 15,
     "metadata": {},
     "output_type": "execute_result"
    }
   ],
   "source": [
    "data_store.head(5)"
   ]
  },
  {
   "cell_type": "code",
   "execution_count": 42,
   "metadata": {},
   "outputs": [
    {
     "name": "stdout",
     "output_type": "stream",
     "text": [
      "<class 'pandas.core.frame.DataFrame'>\n",
      "RangeIndex: 1000 entries, 0 to 999\n",
      "Data columns (total 5 columns):\n",
      " #   Column       Non-Null Count  Dtype  \n",
      "---  ------       --------------  -----  \n",
      " 0   id           1000 non-null   int64  \n",
      " 1   total        1000 non-null   float64\n",
      " 2   customer_id  1000 non-null   int64  \n",
      " 3   store_id     1000 non-null   int64  \n",
      " 4   order_date   1000 non-null   object \n",
      "dtypes: float64(1), int64(3), object(1)\n",
      "memory usage: 39.2+ KB\n"
     ]
    }
   ],
   "source": [
    "data_order.info()"
   ]
  },
  {
   "cell_type": "code",
   "execution_count": 51,
   "metadata": {},
   "outputs": [
    {
     "name": "stdout",
     "output_type": "stream",
     "text": [
      "<class 'pandas.core.frame.DataFrame'>\n",
      "RangeIndex: 10 entries, 0 to 9\n",
      "Data columns (total 3 columns):\n",
      " #   Column   Non-Null Count  Dtype \n",
      "---  ------   --------------  ----- \n",
      " 0   id       10 non-null     int64 \n",
      " 1   name     10 non-null     object\n",
      " 2   address  10 non-null     object\n",
      "dtypes: int64(1), object(2)\n",
      "memory usage: 368.0+ bytes\n"
     ]
    }
   ],
   "source": [
    "data_store.info()"
   ]
  },
  {
   "cell_type": "markdown",
   "metadata": {},
   "source": [
    "# Exploratory Data Analysis"
   ]
  },
  {
   "cell_type": "markdown",
   "metadata": {},
   "source": [
    "1-> Finding Null Values\n",
    "\n",
    "2-> Finding Outliers\n",
    "\n",
    "3-> All the numerical Values\n",
    "\n",
    "4-> Distribution of the data"
   ]
  },
  {
   "cell_type": "markdown",
   "metadata": {},
   "source": [
    "# Finding the null values"
   ]
  },
  {
   "cell_type": "code",
   "execution_count": 19,
   "metadata": {},
   "outputs": [
    {
     "data": {
      "text/plain": [
       "id             0.0\n",
       "total          0.0\n",
       "customer_id    0.0\n",
       "store_id       0.0\n",
       "order_date     0.0\n",
       "dtype: float64"
      ]
     },
     "execution_count": 19,
     "metadata": {},
     "output_type": "execute_result"
    }
   ],
   "source": [
    "data_order.isnull().sum()/len(data_order)*100"
   ]
  },
  {
   "cell_type": "code",
   "execution_count": 11,
   "metadata": {},
   "outputs": [
    {
     "data": {
      "text/plain": [
       "id         0.0\n",
       "name       0.0\n",
       "address    0.0\n",
       "dtype: float64"
      ]
     },
     "execution_count": 11,
     "metadata": {},
     "output_type": "execute_result"
    }
   ],
   "source": [
    "data_store.isnull().sum()/len(data_store)*100"
   ]
  },
  {
   "cell_type": "markdown",
   "metadata": {},
   "source": [
    "Checking for a special character in the data"
   ]
  },
  {
   "cell_type": "code",
   "execution_count": null,
   "metadata": {},
   "outputs": [],
   "source": [
    "spl_character = ('!','@','#','$','%','&','(',')','/','?')\n",
    "\n",
    "for spl in data_store.values,data_order.values:\n",
    "    for spl_char in spl_character:\n",
    "        if spl_char in spl:\n",
    "            print([spl_char],[spl])"
   ]
  },
  {
   "cell_type": "markdown",
   "metadata": {},
   "source": [
    "The data doesn't have any missing values"
   ]
  },
  {
   "cell_type": "markdown",
   "metadata": {},
   "source": [
    "Extracting Date,Year,Month from Order_date column"
   ]
  },
  {
   "cell_type": "code",
   "execution_count": 411,
   "metadata": {},
   "outputs": [],
   "source": [
    "data_order[\"Year\"] = pd.DatetimeIndex(data_order['order_date']).year\n",
    "#data_order[\"date\"] = pd.DatetimeIndex(data_order['order_date']).date\n",
    "Mon = {'January':1,\"February\":2,\"March\":3,\"April\":4,\"May\":5}\n",
    "data_order[\"Month\"] = pd.DatetimeIndex(data_order['order_date']).month"
   ]
  },
  {
   "cell_type": "code",
   "execution_count": 592,
   "metadata": {},
   "outputs": [],
   "source": [
    "data_order[\"Month\"].replace({1:\"January\",2:'February',3:'March',4:'April',5:'May'},inplace = True)"
   ]
  },
  {
   "cell_type": "code",
   "execution_count": 593,
   "metadata": {},
   "outputs": [
    {
     "data": {
      "text/plain": [
       "0         March\n",
       "1         April\n",
       "2         March\n",
       "3         March\n",
       "4       January\n",
       "         ...   \n",
       "995       March\n",
       "996       April\n",
       "997     January\n",
       "998       March\n",
       "999    February\n",
       "Name: Month, Length: 1000, dtype: object"
      ]
     },
     "execution_count": 593,
     "metadata": {},
     "output_type": "execute_result"
    }
   ],
   "source": [
    "data_order[\"Month\"]"
   ]
  },
  {
   "cell_type": "markdown",
   "metadata": {},
   "source": [
    "# Finding the Outliers"
   ]
  },
  {
   "cell_type": "code",
   "execution_count": 90,
   "metadata": {},
   "outputs": [
    {
     "data": {
      "text/plain": [
       "<matplotlib.axes._subplots.AxesSubplot at 0x187f1ec3048>"
      ]
     },
     "execution_count": 90,
     "metadata": {},
     "output_type": "execute_result"
    },
    {
     "data": {
      "image/png": "[encoded data removed]",
      "text/plain": [
       "<Figure size 432x288 with 1 Axes>"
      ]
     },
     "metadata": {
      "needs_background": "light"
     },
     "output_type": "display_data"
    }
   ],
   "source": [
    "sb.boxplot(data_order['total'])"
   ]
  },
  {
   "cell_type": "code",
   "execution_count": 92,
   "metadata": {},
   "outputs": [
    {
     "data": {
      "text/plain": [
       "<matplotlib.axes._subplots.AxesSubplot at 0x187f29b6978>"
      ]
     },
     "execution_count": 92,
     "metadata": {},
     "output_type": "execute_result"
    },
    {
     "data": {
      "image/png": "[encoded data removed]",
      "text/plain": [
       "<Figure size 432x288 with 1 Axes>"
      ]
     },
     "metadata": {
      "needs_background": "light"
     },
     "output_type": "display_data"
    }
   ],
   "source": [
    "sb.boxplot(data = data_order,y ='total',x = 'Month')"
   ]
  },
  {
   "cell_type": "markdown",
   "metadata": {},
   "source": [
    "The data does not have any outliers, it is good to go with further analysis"
   ]
  },
  {
   "cell_type": "markdown",
   "metadata": {},
   "source": [
    "# All the Numerical Values"
   ]
  },
  {
   "cell_type": "code",
   "execution_count": 594,
   "metadata": {},
   "outputs": [],
   "source": [
    "Feature_numerical_order = [feature for feature in data_order.columns if data_order[feature].dtypes == \"int64\" or \"float64\" ]"
   ]
  },
  {
   "cell_type": "code",
   "execution_count": 595,
   "metadata": {},
   "outputs": [],
   "source": [
    "Feature_numerical_store = [feature for feature in data_store.columns if data_store[feature].dtypes != \"O\"]"
   ]
  },
  {
   "cell_type": "code",
   "execution_count": 596,
   "metadata": {},
   "outputs": [
    {
     "data": {
      "text/html": [
       "<div>\n",
       "<style scoped>\n",
       "    .dataframe tbody tr th:only-of-type {\n",
       "        vertical-align: middle;\n",
       "    }\n",
       "\n",
       "    .dataframe tbody tr th {\n",
       "        vertical-align: top;\n",
       "    }\n",
       "\n",
       "    .dataframe thead th {\n",
       "        text-align: right;\n",
       "    }\n",
       "</style>\n",
       "<table border=\"1\" class=\"dataframe\">\n",
       "  <thead>\n",
       "    <tr style=\"text-align: right;\">\n",
       "      <th></th>\n",
       "      <th>id</th>\n",
       "      <th>total</th>\n",
       "      <th>customer_id</th>\n",
       "      <th>store_id</th>\n",
       "      <th>order_date</th>\n",
       "      <th>Year</th>\n",
       "      <th>Month</th>\n",
       "    </tr>\n",
       "  </thead>\n",
       "  <tbody>\n",
       "    <tr>\n",
       "      <th>0</th>\n",
       "      <td>1</td>\n",
       "      <td>19.36</td>\n",
       "      <td>21</td>\n",
       "      <td>1</td>\n",
       "      <td>3/3/2020</td>\n",
       "      <td>2020</td>\n",
       "      <td>March</td>\n",
       "    </tr>\n",
       "    <tr>\n",
       "      <th>1</th>\n",
       "      <td>2</td>\n",
       "      <td>8.85</td>\n",
       "      <td>88</td>\n",
       "      <td>8</td>\n",
       "      <td>4/2/2020</td>\n",
       "      <td>2020</td>\n",
       "      <td>April</td>\n",
       "    </tr>\n",
       "    <tr>\n",
       "      <th>2</th>\n",
       "      <td>3</td>\n",
       "      <td>5.53</td>\n",
       "      <td>41</td>\n",
       "      <td>3</td>\n",
       "      <td>3/3/2020</td>\n",
       "      <td>2020</td>\n",
       "      <td>March</td>\n",
       "    </tr>\n",
       "    <tr>\n",
       "      <th>3</th>\n",
       "      <td>4</td>\n",
       "      <td>12.90</td>\n",
       "      <td>96</td>\n",
       "      <td>8</td>\n",
       "      <td>3/15/2020</td>\n",
       "      <td>2020</td>\n",
       "      <td>March</td>\n",
       "    </tr>\n",
       "    <tr>\n",
       "      <th>4</th>\n",
       "      <td>5</td>\n",
       "      <td>8.19</td>\n",
       "      <td>25</td>\n",
       "      <td>7</td>\n",
       "      <td>1/21/2020</td>\n",
       "      <td>2020</td>\n",
       "      <td>January</td>\n",
       "    </tr>\n",
       "  </tbody>\n",
       "</table>\n",
       "</div>"
      ],
      "text/plain": [
       "   id  total  customer_id  store_id order_date  Year    Month\n",
       "0   1  19.36           21         1   3/3/2020  2020    March\n",
       "1   2   8.85           88         8   4/2/2020  2020    April\n",
       "2   3   5.53           41         3   3/3/2020  2020    March\n",
       "3   4  12.90           96         8  3/15/2020  2020    March\n",
       "4   5   8.19           25         7  1/21/2020  2020  January"
      ]
     },
     "execution_count": 596,
     "metadata": {},
     "output_type": "execute_result"
    }
   ],
   "source": [
    "data_order[Feature_numerical_order].head()"
   ]
  },
  {
   "cell_type": "code",
   "execution_count": 415,
   "metadata": {},
   "outputs": [
    {
     "data": {
      "text/html": [
       "<div>\n",
       "<style scoped>\n",
       "    .dataframe tbody tr th:only-of-type {\n",
       "        vertical-align: middle;\n",
       "    }\n",
       "\n",
       "    .dataframe tbody tr th {\n",
       "        vertical-align: top;\n",
       "    }\n",
       "\n",
       "    .dataframe thead th {\n",
       "        text-align: right;\n",
       "    }\n",
       "</style>\n",
       "<table border=\"1\" class=\"dataframe\">\n",
       "  <thead>\n",
       "    <tr style=\"text-align: right;\">\n",
       "      <th></th>\n",
       "      <th>id</th>\n",
       "    </tr>\n",
       "  </thead>\n",
       "  <tbody>\n",
       "    <tr>\n",
       "      <th>0</th>\n",
       "      <td>1</td>\n",
       "    </tr>\n",
       "    <tr>\n",
       "      <th>1</th>\n",
       "      <td>2</td>\n",
       "    </tr>\n",
       "    <tr>\n",
       "      <th>2</th>\n",
       "      <td>3</td>\n",
       "    </tr>\n",
       "    <tr>\n",
       "      <th>3</th>\n",
       "      <td>4</td>\n",
       "    </tr>\n",
       "    <tr>\n",
       "      <th>4</th>\n",
       "      <td>5</td>\n",
       "    </tr>\n",
       "  </tbody>\n",
       "</table>\n",
       "</div>"
      ],
      "text/plain": [
       "   id\n",
       "0   1\n",
       "1   2\n",
       "2   3\n",
       "3   4\n",
       "4   5"
      ]
     },
     "execution_count": 415,
     "metadata": {},
     "output_type": "execute_result"
    }
   ],
   "source": [
    "data_store[Feature_numerical_store].head()"
   ]
  },
  {
   "cell_type": "code",
   "execution_count": null,
   "metadata": {},
   "outputs": [],
   "source": []
  },
  {
   "cell_type": "markdown",
   "metadata": {},
   "source": [
    "# Distribution of the data"
   ]
  },
  {
   "cell_type": "code",
   "execution_count": 93,
   "metadata": {},
   "outputs": [],
   "source": [
    "from scipy.stats import skew"
   ]
  },
  {
   "cell_type": "code",
   "execution_count": 152,
   "metadata": {},
   "outputs": [],
   "source": [
    "data_order_new = data_order.drop(['order_date','date',\"Year\",'Month'],axis=1)"
   ]
  },
  {
   "cell_type": "code",
   "execution_count": 153,
   "metadata": {},
   "outputs": [
    {
     "name": "stdout",
     "output_type": "stream",
     "text": [
      "id\n",
      "0.0\n"
     ]
    },
    {
     "data": {
      "image/png": "[encoded data removed]",
      "text/plain": [
       "<Figure size 432x288 with 1 Axes>"
      ]
     },
     "metadata": {
      "needs_background": "light"
     },
     "output_type": "display_data"
    },
    {
     "name": "stdout",
     "output_type": "stream",
     "text": [
      "total\n",
      "-0.044851070140417656\n"
     ]
    },
    {
     "data": {
      "image/png": "[encoded data removed]",
      "text/plain": [
       "<Figure size 432x288 with 1 Axes>"
      ]
     },
     "metadata": {
      "needs_background": "light"
     },
     "output_type": "display_data"
    },
    {
     "name": "stdout",
     "output_type": "stream",
     "text": [
      "customer_id\n",
      "0.014188768089697622\n"
     ]
    },
    {
     "data": {
      "image/png": "[encoded data removed]",
      "text/plain": [
       "<Figure size 432x288 with 1 Axes>"
      ]
     },
     "metadata": {
      "needs_background": "light"
     },
     "output_type": "display_data"
    },
    {
     "name": "stdout",
     "output_type": "stream",
     "text": [
      "store_id\n",
      "0.06641427139721619\n"
     ]
    },
    {
     "data": {
      "image/png": "[encoded data removed]",
      "text/plain": [
       "<Figure size 432x288 with 1 Axes>"
      ]
     },
     "metadata": {
      "needs_background": "light"
     },
     "output_type": "display_data"
    }
   ],
   "source": [
    "for col in data_order_new:\n",
    "    print(col)\n",
    "    print(skew(data_order[col]))\n",
    "    \n",
    "    plt.figure()\n",
    "    sb.distplot(data_order[col])\n",
    "    plt.show()"
   ]
  },
  {
   "cell_type": "markdown",
   "metadata": {},
   "source": [
    "# Creating a Dataframe with Monthly total orders and revenue for each store"
   ]
  },
  {
   "cell_type": "markdown",
   "metadata": {},
   "source": [
    "Merging two datasets to map the Store_id with Store Name"
   ]
  },
  {
   "cell_type": "code",
   "execution_count": 597,
   "metadata": {},
   "outputs": [],
   "source": [
    "store_name = pd.merge(data_order,data_store,left_on = 'store_id',right_on = 'id',how ='left',indicator = True)"
   ]
  },
  {
   "cell_type": "code",
   "execution_count": 598,
   "metadata": {},
   "outputs": [
    {
     "data": {
      "text/html": [
       "<div>\n",
       "<style scoped>\n",
       "    .dataframe tbody tr th:only-of-type {\n",
       "        vertical-align: middle;\n",
       "    }\n",
       "\n",
       "    .dataframe tbody tr th {\n",
       "        vertical-align: top;\n",
       "    }\n",
       "\n",
       "    .dataframe thead th {\n",
       "        text-align: right;\n",
       "    }\n",
       "</style>\n",
       "<table border=\"1\" class=\"dataframe\">\n",
       "  <thead>\n",
       "    <tr style=\"text-align: right;\">\n",
       "      <th></th>\n",
       "      <th>id_x</th>\n",
       "      <th>total</th>\n",
       "      <th>customer_id</th>\n",
       "      <th>store_id</th>\n",
       "      <th>order_date</th>\n",
       "      <th>Year</th>\n",
       "      <th>Month</th>\n",
       "      <th>id_y</th>\n",
       "      <th>name</th>\n",
       "      <th>address</th>\n",
       "      <th>_merge</th>\n",
       "    </tr>\n",
       "  </thead>\n",
       "  <tbody>\n",
       "    <tr>\n",
       "      <th>0</th>\n",
       "      <td>1</td>\n",
       "      <td>19.36</td>\n",
       "      <td>21</td>\n",
       "      <td>1</td>\n",
       "      <td>3/3/2020</td>\n",
       "      <td>2020</td>\n",
       "      <td>March</td>\n",
       "      <td>1</td>\n",
       "      <td>Valdez Inc</td>\n",
       "      <td>18321 Joseph Lodge\\nChristineland, NH 69026</td>\n",
       "      <td>both</td>\n",
       "    </tr>\n",
       "    <tr>\n",
       "      <th>1</th>\n",
       "      <td>2</td>\n",
       "      <td>8.85</td>\n",
       "      <td>88</td>\n",
       "      <td>8</td>\n",
       "      <td>4/2/2020</td>\n",
       "      <td>2020</td>\n",
       "      <td>April</td>\n",
       "      <td>8</td>\n",
       "      <td>Martinez, Marsh and Gomez</td>\n",
       "      <td>1434 Shelby Streets Apt. 134\\nWest Austin, SD ...</td>\n",
       "      <td>both</td>\n",
       "    </tr>\n",
       "    <tr>\n",
       "      <th>2</th>\n",
       "      <td>3</td>\n",
       "      <td>5.53</td>\n",
       "      <td>41</td>\n",
       "      <td>3</td>\n",
       "      <td>3/3/2020</td>\n",
       "      <td>2020</td>\n",
       "      <td>March</td>\n",
       "      <td>3</td>\n",
       "      <td>Taylor Ltd</td>\n",
       "      <td>3433 Hill Forest\\nCharlesmouth, KY 16037</td>\n",
       "      <td>both</td>\n",
       "    </tr>\n",
       "    <tr>\n",
       "      <th>3</th>\n",
       "      <td>4</td>\n",
       "      <td>12.90</td>\n",
       "      <td>96</td>\n",
       "      <td>8</td>\n",
       "      <td>3/15/2020</td>\n",
       "      <td>2020</td>\n",
       "      <td>March</td>\n",
       "      <td>8</td>\n",
       "      <td>Martinez, Marsh and Gomez</td>\n",
       "      <td>1434 Shelby Streets Apt. 134\\nWest Austin, SD ...</td>\n",
       "      <td>both</td>\n",
       "    </tr>\n",
       "    <tr>\n",
       "      <th>4</th>\n",
       "      <td>5</td>\n",
       "      <td>8.19</td>\n",
       "      <td>25</td>\n",
       "      <td>7</td>\n",
       "      <td>1/21/2020</td>\n",
       "      <td>2020</td>\n",
       "      <td>January</td>\n",
       "      <td>7</td>\n",
       "      <td>Hall Inc</td>\n",
       "      <td>23446 Brittney Isle Apt. 423\\nSouth Victoriabe...</td>\n",
       "      <td>both</td>\n",
       "    </tr>\n",
       "  </tbody>\n",
       "</table>\n",
       "</div>"
      ],
      "text/plain": [
       "   id_x  total  customer_id  store_id order_date  Year    Month  id_y  \\\n",
       "0     1  19.36           21         1   3/3/2020  2020    March     1   \n",
       "1     2   8.85           88         8   4/2/2020  2020    April     8   \n",
       "2     3   5.53           41         3   3/3/2020  2020    March     3   \n",
       "3     4  12.90           96         8  3/15/2020  2020    March     8   \n",
       "4     5   8.19           25         7  1/21/2020  2020  January     7   \n",
       "\n",
       "                        name  \\\n",
       "0                 Valdez Inc   \n",
       "1  Martinez, Marsh and Gomez   \n",
       "2                 Taylor Ltd   \n",
       "3  Martinez, Marsh and Gomez   \n",
       "4                   Hall Inc   \n",
       "\n",
       "                                             address _merge  \n",
       "0        18321 Joseph Lodge\\nChristineland, NH 69026   both  \n",
       "1  1434 Shelby Streets Apt. 134\\nWest Austin, SD ...   both  \n",
       "2           3433 Hill Forest\\nCharlesmouth, KY 16037   both  \n",
       "3  1434 Shelby Streets Apt. 134\\nWest Austin, SD ...   both  \n",
       "4  23446 Brittney Isle Apt. 423\\nSouth Victoriabe...   both  "
      ]
     },
     "execution_count": 598,
     "metadata": {},
     "output_type": "execute_result"
    }
   ],
   "source": [
    "store_name.head()"
   ]
  },
  {
   "cell_type": "code",
   "execution_count": 606,
   "metadata": {},
   "outputs": [],
   "source": [
    "revenue = pd.DataFrame(store_name,columns =['Year','Month' ,'name','id_x','total'])"
   ]
  },
  {
   "cell_type": "code",
   "execution_count": 607,
   "metadata": {},
   "outputs": [],
   "source": [
    "Storewise_data = revenue.groupby(['Year',\"Month\",\"name\"]).agg({'id_x':'count','total':sum})"
   ]
  },
  {
   "cell_type": "code",
   "execution_count": 608,
   "metadata": {},
   "outputs": [],
   "source": [
    "Storewise_data.rename(columns = {'name' :'Store Name','id_x':'Number of orders','total':'Total Revenue'},inplace = True)"
   ]
  },
  {
   "cell_type": "code",
   "execution_count": 610,
   "metadata": {},
   "outputs": [
    {
     "data": {
      "text/html": [
       "<div>\n",
       "<style scoped>\n",
       "    .dataframe tbody tr th:only-of-type {\n",
       "        vertical-align: middle;\n",
       "    }\n",
       "\n",
       "    .dataframe tbody tr th {\n",
       "        vertical-align: top;\n",
       "    }\n",
       "\n",
       "    .dataframe thead th {\n",
       "        text-align: right;\n",
       "    }\n",
       "</style>\n",
       "<table border=\"1\" class=\"dataframe\">\n",
       "  <thead>\n",
       "    <tr style=\"text-align: right;\">\n",
       "      <th></th>\n",
       "      <th></th>\n",
       "      <th></th>\n",
       "      <th>Number of orders</th>\n",
       "      <th>Total Revenue</th>\n",
       "    </tr>\n",
       "    <tr>\n",
       "      <th>Year</th>\n",
       "      <th>Month</th>\n",
       "      <th>name</th>\n",
       "      <th></th>\n",
       "      <th></th>\n",
       "    </tr>\n",
       "  </thead>\n",
       "  <tbody>\n",
       "    <tr>\n",
       "      <th rowspan=\"50\" valign=\"top\">2020</th>\n",
       "      <th rowspan=\"10\" valign=\"top\">April</th>\n",
       "      <th>Adams, Barrett and Thomas</th>\n",
       "      <td>27</td>\n",
       "      <td>354.82</td>\n",
       "    </tr>\n",
       "    <tr>\n",
       "      <th>Edwards-Mcdaniel</th>\n",
       "      <td>30</td>\n",
       "      <td>416.12</td>\n",
       "    </tr>\n",
       "    <tr>\n",
       "      <th>Hall Inc</th>\n",
       "      <td>25</td>\n",
       "      <td>391.25</td>\n",
       "    </tr>\n",
       "    <tr>\n",
       "      <th>Henderson, Olson and Ward</th>\n",
       "      <td>24</td>\n",
       "      <td>319.29</td>\n",
       "    </tr>\n",
       "    <tr>\n",
       "      <th>Martinez, Marsh and Gomez</th>\n",
       "      <td>23</td>\n",
       "      <td>361.04</td>\n",
       "    </tr>\n",
       "    <tr>\n",
       "      <th>Scott-Brown</th>\n",
       "      <td>20</td>\n",
       "      <td>391.18</td>\n",
       "    </tr>\n",
       "    <tr>\n",
       "      <th>Stevens-Barr</th>\n",
       "      <td>24</td>\n",
       "      <td>343.31</td>\n",
       "    </tr>\n",
       "    <tr>\n",
       "      <th>Taylor Ltd</th>\n",
       "      <td>24</td>\n",
       "      <td>393.15</td>\n",
       "    </tr>\n",
       "    <tr>\n",
       "      <th>Valdez Inc</th>\n",
       "      <td>26</td>\n",
       "      <td>406.61</td>\n",
       "    </tr>\n",
       "    <tr>\n",
       "      <th>Young Group</th>\n",
       "      <td>26</td>\n",
       "      <td>366.12</td>\n",
       "    </tr>\n",
       "    <tr>\n",
       "      <th rowspan=\"10\" valign=\"top\">February</th>\n",
       "      <th>Adams, Barrett and Thomas</th>\n",
       "      <td>24</td>\n",
       "      <td>436.31</td>\n",
       "    </tr>\n",
       "    <tr>\n",
       "      <th>Edwards-Mcdaniel</th>\n",
       "      <td>22</td>\n",
       "      <td>439.02</td>\n",
       "    </tr>\n",
       "    <tr>\n",
       "      <th>Hall Inc</th>\n",
       "      <td>22</td>\n",
       "      <td>381.18</td>\n",
       "    </tr>\n",
       "    <tr>\n",
       "      <th>Henderson, Olson and Ward</th>\n",
       "      <td>25</td>\n",
       "      <td>342.60</td>\n",
       "    </tr>\n",
       "    <tr>\n",
       "      <th>Martinez, Marsh and Gomez</th>\n",
       "      <td>33</td>\n",
       "      <td>442.74</td>\n",
       "    </tr>\n",
       "    <tr>\n",
       "      <th>Scott-Brown</th>\n",
       "      <td>19</td>\n",
       "      <td>274.21</td>\n",
       "    </tr>\n",
       "    <tr>\n",
       "      <th>Stevens-Barr</th>\n",
       "      <td>24</td>\n",
       "      <td>322.05</td>\n",
       "    </tr>\n",
       "    <tr>\n",
       "      <th>Taylor Ltd</th>\n",
       "      <td>27</td>\n",
       "      <td>343.66</td>\n",
       "    </tr>\n",
       "    <tr>\n",
       "      <th>Valdez Inc</th>\n",
       "      <td>25</td>\n",
       "      <td>383.29</td>\n",
       "    </tr>\n",
       "    <tr>\n",
       "      <th>Young Group</th>\n",
       "      <td>26</td>\n",
       "      <td>404.18</td>\n",
       "    </tr>\n",
       "    <tr>\n",
       "      <th rowspan=\"10\" valign=\"top\">January</th>\n",
       "      <th>Adams, Barrett and Thomas</th>\n",
       "      <td>27</td>\n",
       "      <td>315.79</td>\n",
       "    </tr>\n",
       "    <tr>\n",
       "      <th>Edwards-Mcdaniel</th>\n",
       "      <td>18</td>\n",
       "      <td>280.72</td>\n",
       "    </tr>\n",
       "    <tr>\n",
       "      <th>Hall Inc</th>\n",
       "      <td>21</td>\n",
       "      <td>348.17</td>\n",
       "    </tr>\n",
       "    <tr>\n",
       "      <th>Henderson, Olson and Ward</th>\n",
       "      <td>23</td>\n",
       "      <td>282.65</td>\n",
       "    </tr>\n",
       "    <tr>\n",
       "      <th>Martinez, Marsh and Gomez</th>\n",
       "      <td>17</td>\n",
       "      <td>222.38</td>\n",
       "    </tr>\n",
       "    <tr>\n",
       "      <th>Scott-Brown</th>\n",
       "      <td>18</td>\n",
       "      <td>216.82</td>\n",
       "    </tr>\n",
       "    <tr>\n",
       "      <th>Stevens-Barr</th>\n",
       "      <td>27</td>\n",
       "      <td>455.03</td>\n",
       "    </tr>\n",
       "    <tr>\n",
       "      <th>Taylor Ltd</th>\n",
       "      <td>28</td>\n",
       "      <td>450.72</td>\n",
       "    </tr>\n",
       "    <tr>\n",
       "      <th>Valdez Inc</th>\n",
       "      <td>24</td>\n",
       "      <td>357.64</td>\n",
       "    </tr>\n",
       "    <tr>\n",
       "      <th>Young Group</th>\n",
       "      <td>15</td>\n",
       "      <td>271.67</td>\n",
       "    </tr>\n",
       "    <tr>\n",
       "      <th rowspan=\"10\" valign=\"top\">March</th>\n",
       "      <th>Adams, Barrett and Thomas</th>\n",
       "      <td>27</td>\n",
       "      <td>430.58</td>\n",
       "    </tr>\n",
       "    <tr>\n",
       "      <th>Edwards-Mcdaniel</th>\n",
       "      <td>29</td>\n",
       "      <td>428.32</td>\n",
       "    </tr>\n",
       "    <tr>\n",
       "      <th>Hall Inc</th>\n",
       "      <td>19</td>\n",
       "      <td>286.01</td>\n",
       "    </tr>\n",
       "    <tr>\n",
       "      <th>Henderson, Olson and Ward</th>\n",
       "      <td>23</td>\n",
       "      <td>312.72</td>\n",
       "    </tr>\n",
       "    <tr>\n",
       "      <th>Martinez, Marsh and Gomez</th>\n",
       "      <td>36</td>\n",
       "      <td>573.24</td>\n",
       "    </tr>\n",
       "    <tr>\n",
       "      <th>Scott-Brown</th>\n",
       "      <td>13</td>\n",
       "      <td>197.24</td>\n",
       "    </tr>\n",
       "    <tr>\n",
       "      <th>Stevens-Barr</th>\n",
       "      <td>31</td>\n",
       "      <td>488.47</td>\n",
       "    </tr>\n",
       "    <tr>\n",
       "      <th>Taylor Ltd</th>\n",
       "      <td>26</td>\n",
       "      <td>428.81</td>\n",
       "    </tr>\n",
       "    <tr>\n",
       "      <th>Valdez Inc</th>\n",
       "      <td>29</td>\n",
       "      <td>463.58</td>\n",
       "    </tr>\n",
       "    <tr>\n",
       "      <th>Young Group</th>\n",
       "      <td>23</td>\n",
       "      <td>356.60</td>\n",
       "    </tr>\n",
       "    <tr>\n",
       "      <th rowspan=\"10\" valign=\"top\">May</th>\n",
       "      <th>Adams, Barrett and Thomas</th>\n",
       "      <td>4</td>\n",
       "      <td>90.45</td>\n",
       "    </tr>\n",
       "    <tr>\n",
       "      <th>Edwards-Mcdaniel</th>\n",
       "      <td>1</td>\n",
       "      <td>24.43</td>\n",
       "    </tr>\n",
       "    <tr>\n",
       "      <th>Hall Inc</th>\n",
       "      <td>2</td>\n",
       "      <td>44.05</td>\n",
       "    </tr>\n",
       "    <tr>\n",
       "      <th>Henderson, Olson and Ward</th>\n",
       "      <td>3</td>\n",
       "      <td>60.27</td>\n",
       "    </tr>\n",
       "    <tr>\n",
       "      <th>Martinez, Marsh and Gomez</th>\n",
       "      <td>1</td>\n",
       "      <td>19.53</td>\n",
       "    </tr>\n",
       "    <tr>\n",
       "      <th>Scott-Brown</th>\n",
       "      <td>3</td>\n",
       "      <td>14.17</td>\n",
       "    </tr>\n",
       "    <tr>\n",
       "      <th>Stevens-Barr</th>\n",
       "      <td>1</td>\n",
       "      <td>24.61</td>\n",
       "    </tr>\n",
       "    <tr>\n",
       "      <th>Taylor Ltd</th>\n",
       "      <td>5</td>\n",
       "      <td>83.29</td>\n",
       "    </tr>\n",
       "    <tr>\n",
       "      <th>Valdez Inc</th>\n",
       "      <td>2</td>\n",
       "      <td>39.25</td>\n",
       "    </tr>\n",
       "    <tr>\n",
       "      <th>Young Group</th>\n",
       "      <td>8</td>\n",
       "      <td>114.65</td>\n",
       "    </tr>\n",
       "  </tbody>\n",
       "</table>\n",
       "</div>"
      ],
      "text/plain": [
       "                                         Number of orders  Total Revenue\n",
       "Year Month    name                                                      \n",
       "2020 April    Adams, Barrett and Thomas                27         354.82\n",
       "              Edwards-Mcdaniel                         30         416.12\n",
       "              Hall Inc                                 25         391.25\n",
       "              Henderson, Olson and Ward                24         319.29\n",
       "              Martinez, Marsh and Gomez                23         361.04\n",
       "              Scott-Brown                              20         391.18\n",
       "              Stevens-Barr                             24         343.31\n",
       "              Taylor Ltd                               24         393.15\n",
       "              Valdez Inc                               26         406.61\n",
       "              Young Group                              26         366.12\n",
       "     February Adams, Barrett and Thomas                24         436.31\n",
       "              Edwards-Mcdaniel                         22         439.02\n",
       "              Hall Inc                                 22         381.18\n",
       "              Henderson, Olson and Ward                25         342.60\n",
       "              Martinez, Marsh and Gomez                33         442.74\n",
       "              Scott-Brown                              19         274.21\n",
       "              Stevens-Barr                             24         322.05\n",
       "              Taylor Ltd                               27         343.66\n",
       "              Valdez Inc                               25         383.29\n",
       "              Young Group                              26         404.18\n",
       "     January  Adams, Barrett and Thomas                27         315.79\n",
       "              Edwards-Mcdaniel                         18         280.72\n",
       "              Hall Inc                                 21         348.17\n",
       "              Henderson, Olson and Ward                23         282.65\n",
       "              Martinez, Marsh and Gomez                17         222.38\n",
       "              Scott-Brown                              18         216.82\n",
       "              Stevens-Barr                             27         455.03\n",
       "              Taylor Ltd                               28         450.72\n",
       "              Valdez Inc                               24         357.64\n",
       "              Young Group                              15         271.67\n",
       "     March    Adams, Barrett and Thomas                27         430.58\n",
       "              Edwards-Mcdaniel                         29         428.32\n",
       "              Hall Inc                                 19         286.01\n",
       "              Henderson, Olson and Ward                23         312.72\n",
       "              Martinez, Marsh and Gomez                36         573.24\n",
       "              Scott-Brown                              13         197.24\n",
       "              Stevens-Barr                             31         488.47\n",
       "              Taylor Ltd                               26         428.81\n",
       "              Valdez Inc                               29         463.58\n",
       "              Young Group                              23         356.60\n",
       "     May      Adams, Barrett and Thomas                 4          90.45\n",
       "              Edwards-Mcdaniel                          1          24.43\n",
       "              Hall Inc                                  2          44.05\n",
       "              Henderson, Olson and Ward                 3          60.27\n",
       "              Martinez, Marsh and Gomez                 1          19.53\n",
       "              Scott-Brown                               3          14.17\n",
       "              Stevens-Barr                              1          24.61\n",
       "              Taylor Ltd                                5          83.29\n",
       "              Valdez Inc                                2          39.25\n",
       "              Young Group                               8         114.65"
      ]
     },
     "execution_count": 610,
     "metadata": {},
     "output_type": "execute_result"
    }
   ],
   "source": [
    "Storewise_data"
   ]
  },
  {
   "cell_type": "markdown",
   "metadata": {},
   "source": [
    "# Converting Dataframe into an Excel file"
   ]
  },
  {
   "cell_type": "code",
   "execution_count": 603,
   "metadata": {},
   "outputs": [],
   "source": [
    "Storewise_data.to_csv('C:\\\\Users\\\\sreeram\\\\Desktop\\\\personal info\\\\FoodHub\\\\Monthly_Revenue.csv')"
   ]
  },
  {
   "cell_type": "markdown",
   "metadata": {},
   "source": [
    " The Monthly Revenue of each store has been analyzed and the aggregate table has also been converted into a CSV file format."
   ]
  },
  {
   "cell_type": "markdown",
   "metadata": {},
   "source": [
    "# Getting the cutsomers who have places less than 10 orders\n"
   ]
  },
  {
   "cell_type": "code",
   "execution_count": 428,
   "metadata": {},
   "outputs": [],
   "source": [
    "data_cus = pd.read_csv('C:\\\\Users\\\\sreeram\\\\Desktop\\\\personal info\\\\FoodHub\\\\level2codingtest\\\\customer_test (2).csv')"
   ]
  },
  {
   "cell_type": "markdown",
   "metadata": {},
   "source": [
    "Finding the null values"
   ]
  },
  {
   "cell_type": "code",
   "execution_count": 429,
   "metadata": {},
   "outputs": [
    {
     "data": {
      "text/plain": [
       "id            0.0\n",
       "first_name    0.0\n",
       "last_name     0.0\n",
       "email         0.0\n",
       "dtype: float64"
      ]
     },
     "execution_count": 429,
     "metadata": {},
     "output_type": "execute_result"
    }
   ],
   "source": [
    "data_cus.isnull().sum()/len(data_cus)*100"
   ]
  },
  {
   "cell_type": "code",
   "execution_count": 431,
   "metadata": {},
   "outputs": [
    {
     "data": {
      "text/plain": [
       "(100, 4)"
      ]
     },
     "execution_count": 431,
     "metadata": {},
     "output_type": "execute_result"
    }
   ],
   "source": [
    "data_cus.shape"
   ]
  },
  {
   "cell_type": "code",
   "execution_count": 432,
   "metadata": {},
   "outputs": [
    {
     "name": "stdout",
     "output_type": "stream",
     "text": [
      "<class 'pandas.core.frame.DataFrame'>\n",
      "RangeIndex: 100 entries, 0 to 99\n",
      "Data columns (total 4 columns):\n",
      " #   Column      Non-Null Count  Dtype \n",
      "---  ------      --------------  ----- \n",
      " 0   id          100 non-null    int64 \n",
      " 1   first_name  100 non-null    object\n",
      " 2   last_name   100 non-null    object\n",
      " 3   email       100 non-null    object\n",
      "dtypes: int64(1), object(3)\n",
      "memory usage: 3.2+ KB\n"
     ]
    }
   ],
   "source": [
    "data_cus.info()"
   ]
  },
  {
   "cell_type": "markdown",
   "metadata": {},
   "source": [
    "All the fields are categorical except the coulmn \"ID\""
   ]
  },
  {
   "cell_type": "markdown",
   "metadata": {},
   "source": [
    "Merging two different datasets"
   ]
  },
  {
   "cell_type": "code",
   "execution_count": 433,
   "metadata": {},
   "outputs": [],
   "source": [
    "customer = pd.merge(data_order,data_cus,left_on = 'customer_id',right_on = 'id',how = 'left',indicator = True)"
   ]
  },
  {
   "cell_type": "markdown",
   "metadata": {},
   "source": [
    "Encrypting the user email address"
   ]
  },
  {
   "cell_type": "code",
   "execution_count": 522,
   "metadata": {},
   "outputs": [],
   "source": [
    "import hashlib"
   ]
  },
  {
   "cell_type": "code",
   "execution_count": 523,
   "metadata": {},
   "outputs": [],
   "source": [
    "customer['email'] = customer['email'].apply(lambda x : hashlib.md5(x.encode()).hexdigest())"
   ]
  },
  {
   "cell_type": "code",
   "execution_count": 524,
   "metadata": {},
   "outputs": [
    {
     "data": {
      "text/html": [
       "<div>\n",
       "<style scoped>\n",
       "    .dataframe tbody tr th:only-of-type {\n",
       "        vertical-align: middle;\n",
       "    }\n",
       "\n",
       "    .dataframe tbody tr th {\n",
       "        vertical-align: top;\n",
       "    }\n",
       "\n",
       "    .dataframe thead th {\n",
       "        text-align: right;\n",
       "    }\n",
       "</style>\n",
       "<table border=\"1\" class=\"dataframe\">\n",
       "  <thead>\n",
       "    <tr style=\"text-align: right;\">\n",
       "      <th></th>\n",
       "      <th>id_x</th>\n",
       "      <th>total</th>\n",
       "      <th>customer_id</th>\n",
       "      <th>store_id</th>\n",
       "      <th>order_date</th>\n",
       "      <th>Year</th>\n",
       "      <th>Month</th>\n",
       "      <th>id_y</th>\n",
       "      <th>first_name</th>\n",
       "      <th>last_name</th>\n",
       "      <th>email</th>\n",
       "      <th>_merge</th>\n",
       "    </tr>\n",
       "  </thead>\n",
       "  <tbody>\n",
       "    <tr>\n",
       "      <th>0</th>\n",
       "      <td>1</td>\n",
       "      <td>19.36</td>\n",
       "      <td>21</td>\n",
       "      <td>1</td>\n",
       "      <td>3/3/2020</td>\n",
       "      <td>2020</td>\n",
       "      <td>3</td>\n",
       "      <td>21</td>\n",
       "      <td>Alexis</td>\n",
       "      <td>Ferguson</td>\n",
       "      <td>e816835bf4752b6e98f4a1b74b070234</td>\n",
       "      <td>both</td>\n",
       "    </tr>\n",
       "    <tr>\n",
       "      <th>1</th>\n",
       "      <td>2</td>\n",
       "      <td>8.85</td>\n",
       "      <td>88</td>\n",
       "      <td>8</td>\n",
       "      <td>4/2/2020</td>\n",
       "      <td>2020</td>\n",
       "      <td>4</td>\n",
       "      <td>88</td>\n",
       "      <td>Christopher</td>\n",
       "      <td>Diaz</td>\n",
       "      <td>e88ad9ea88d72d042fdea2902ef27d22</td>\n",
       "      <td>both</td>\n",
       "    </tr>\n",
       "    <tr>\n",
       "      <th>2</th>\n",
       "      <td>3</td>\n",
       "      <td>5.53</td>\n",
       "      <td>41</td>\n",
       "      <td>3</td>\n",
       "      <td>3/3/2020</td>\n",
       "      <td>2020</td>\n",
       "      <td>3</td>\n",
       "      <td>41</td>\n",
       "      <td>Rebecca</td>\n",
       "      <td>Little</td>\n",
       "      <td>966e74e7a1d4a81342696d9acd022c62</td>\n",
       "      <td>both</td>\n",
       "    </tr>\n",
       "    <tr>\n",
       "      <th>3</th>\n",
       "      <td>4</td>\n",
       "      <td>12.90</td>\n",
       "      <td>96</td>\n",
       "      <td>8</td>\n",
       "      <td>3/15/2020</td>\n",
       "      <td>2020</td>\n",
       "      <td>3</td>\n",
       "      <td>96</td>\n",
       "      <td>Leah</td>\n",
       "      <td>Sandoval</td>\n",
       "      <td>811355a529e0c903146bb75ce0e8ddee</td>\n",
       "      <td>both</td>\n",
       "    </tr>\n",
       "    <tr>\n",
       "      <th>4</th>\n",
       "      <td>5</td>\n",
       "      <td>8.19</td>\n",
       "      <td>25</td>\n",
       "      <td>7</td>\n",
       "      <td>1/21/2020</td>\n",
       "      <td>2020</td>\n",
       "      <td>1</td>\n",
       "      <td>25</td>\n",
       "      <td>Richard</td>\n",
       "      <td>Peterson</td>\n",
       "      <td>c637e9b68f817c6e2282aa124846a6ae</td>\n",
       "      <td>both</td>\n",
       "    </tr>\n",
       "  </tbody>\n",
       "</table>\n",
       "</div>"
      ],
      "text/plain": [
       "   id_x  total  customer_id  store_id order_date  Year  Month  id_y  \\\n",
       "0     1  19.36           21         1   3/3/2020  2020      3    21   \n",
       "1     2   8.85           88         8   4/2/2020  2020      4    88   \n",
       "2     3   5.53           41         3   3/3/2020  2020      3    41   \n",
       "3     4  12.90           96         8  3/15/2020  2020      3    96   \n",
       "4     5   8.19           25         7  1/21/2020  2020      1    25   \n",
       "\n",
       "    first_name last_name                             email _merge  \n",
       "0       Alexis  Ferguson  e816835bf4752b6e98f4a1b74b070234   both  \n",
       "1  Christopher      Diaz  e88ad9ea88d72d042fdea2902ef27d22   both  \n",
       "2      Rebecca    Little  966e74e7a1d4a81342696d9acd022c62   both  \n",
       "3         Leah  Sandoval  811355a529e0c903146bb75ce0e8ddee   both  \n",
       "4      Richard  Peterson  c637e9b68f817c6e2282aa124846a6ae   both  "
      ]
     },
     "execution_count": 524,
     "metadata": {},
     "output_type": "execute_result"
    }
   ],
   "source": [
    "customer.head()"
   ]
  },
  {
   "cell_type": "code",
   "execution_count": 525,
   "metadata": {},
   "outputs": [],
   "source": [
    "customer_df = pd.DataFrame(customer,columns=[\"first_name\",'last_name','email','customer_id'])"
   ]
  },
  {
   "cell_type": "code",
   "execution_count": 572,
   "metadata": {},
   "outputs": [],
   "source": [
    "final_data = customer_df.groupby(['first_name','last_name','email','customer_id']).agg({'customer_id':'count'})"
   ]
  },
  {
   "cell_type": "code",
   "execution_count": 575,
   "metadata": {},
   "outputs": [],
   "source": [
    "final_data = final_data.rename(columns = {'customer_id':'orders placed by user'})"
   ]
  },
  {
   "cell_type": "code",
   "execution_count": 588,
   "metadata": {},
   "outputs": [],
   "source": [
    "order_by_user = final_data[final_data['orders placed by user'].values<10]"
   ]
  },
  {
   "cell_type": "code",
   "execution_count": 589,
   "metadata": {},
   "outputs": [
    {
     "data": {
      "text/html": [
       "<div>\n",
       "<style scoped>\n",
       "    .dataframe tbody tr th:only-of-type {\n",
       "        vertical-align: middle;\n",
       "    }\n",
       "\n",
       "    .dataframe tbody tr th {\n",
       "        vertical-align: top;\n",
       "    }\n",
       "\n",
       "    .dataframe thead th {\n",
       "        text-align: right;\n",
       "    }\n",
       "</style>\n",
       "<table border=\"1\" class=\"dataframe\">\n",
       "  <thead>\n",
       "    <tr style=\"text-align: right;\">\n",
       "      <th></th>\n",
       "      <th></th>\n",
       "      <th></th>\n",
       "      <th></th>\n",
       "      <th>orders placed by user</th>\n",
       "    </tr>\n",
       "    <tr>\n",
       "      <th>first_name</th>\n",
       "      <th>last_name</th>\n",
       "      <th>email</th>\n",
       "      <th>customer_id</th>\n",
       "      <th></th>\n",
       "    </tr>\n",
       "  </thead>\n",
       "  <tbody>\n",
       "    <tr>\n",
       "      <th>Alexandria</th>\n",
       "      <th>Alvarado</th>\n",
       "      <th>6c5e7059be20c0fc930df3624e16f9a7</th>\n",
       "      <th>5</th>\n",
       "      <td>4</td>\n",
       "    </tr>\n",
       "    <tr>\n",
       "      <th>Alicia</th>\n",
       "      <th>Martinez</th>\n",
       "      <th>73d4e1335c8b73f4498e6626791ae013</th>\n",
       "      <th>63</th>\n",
       "      <td>6</td>\n",
       "    </tr>\n",
       "    <tr>\n",
       "      <th rowspan=\"2\" valign=\"top\">Angela</th>\n",
       "      <th>Oneal</th>\n",
       "      <th>f2137375b2faa52d3c598b0963187c9a</th>\n",
       "      <th>29</th>\n",
       "      <td>7</td>\n",
       "    </tr>\n",
       "    <tr>\n",
       "      <th>Taylor</th>\n",
       "      <th>10b39830a7ba957429d57e89ad7a4feb</th>\n",
       "      <th>20</th>\n",
       "      <td>9</td>\n",
       "    </tr>\n",
       "    <tr>\n",
       "      <th>Beverly</th>\n",
       "      <th>Barnes</th>\n",
       "      <th>79a0ea032f92e7993ea7431f2a582b5e</th>\n",
       "      <th>19</th>\n",
       "      <td>5</td>\n",
       "    </tr>\n",
       "    <tr>\n",
       "      <th>Brian</th>\n",
       "      <th>Riley</th>\n",
       "      <th>32c074fa19009a10e6a906b960151c4b</th>\n",
       "      <th>83</th>\n",
       "      <td>8</td>\n",
       "    </tr>\n",
       "    <tr>\n",
       "      <th>Brooke</th>\n",
       "      <th>Brown</th>\n",
       "      <th>56d085f32f17825b3f70c4529803a7ed</th>\n",
       "      <th>32</th>\n",
       "      <td>9</td>\n",
       "    </tr>\n",
       "    <tr>\n",
       "      <th>Charles</th>\n",
       "      <th>Randall</th>\n",
       "      <th>7648732290f1d67c958bad1dff4f46d5</th>\n",
       "      <th>73</th>\n",
       "      <td>7</td>\n",
       "    </tr>\n",
       "    <tr>\n",
       "      <th>Dale</th>\n",
       "      <th>Sanders</th>\n",
       "      <th>f4dbaf5d6abecd487f82334edec609b1</th>\n",
       "      <th>77</th>\n",
       "      <td>7</td>\n",
       "    </tr>\n",
       "    <tr>\n",
       "      <th>David</th>\n",
       "      <th>Collins</th>\n",
       "      <th>050ec448b62eb2f80f05d84e477fa1d8</th>\n",
       "      <th>39</th>\n",
       "      <td>8</td>\n",
       "    </tr>\n",
       "    <tr>\n",
       "      <th>Dennis</th>\n",
       "      <th>Knapp</th>\n",
       "      <th>ca529c3ef1f75771b2cf6e1daebe53e3</th>\n",
       "      <th>57</th>\n",
       "      <td>9</td>\n",
       "    </tr>\n",
       "    <tr>\n",
       "      <th>Francis</th>\n",
       "      <th>Smith</th>\n",
       "      <th>1ba4b9f41b984914a39f915800427e37</th>\n",
       "      <th>27</th>\n",
       "      <td>9</td>\n",
       "    </tr>\n",
       "    <tr>\n",
       "      <th>Heather</th>\n",
       "      <th>Dennis</th>\n",
       "      <th>7a1dc931bb736ddcac1426bd7de5db51</th>\n",
       "      <th>59</th>\n",
       "      <td>9</td>\n",
       "    </tr>\n",
       "    <tr>\n",
       "      <th>Hector</th>\n",
       "      <th>Hayden</th>\n",
       "      <th>edd568df453b10c43d9406864047d088</th>\n",
       "      <th>37</th>\n",
       "      <td>9</td>\n",
       "    </tr>\n",
       "    <tr>\n",
       "      <th>James</th>\n",
       "      <th>Washington</th>\n",
       "      <th>71a32f6bd1ba1407a89a7d42323391a0</th>\n",
       "      <th>10</th>\n",
       "      <td>8</td>\n",
       "    </tr>\n",
       "    <tr>\n",
       "      <th>Jamie</th>\n",
       "      <th>Shah</th>\n",
       "      <th>a7adaec26ca18e56b58f1d3bcf356997</th>\n",
       "      <th>53</th>\n",
       "      <td>9</td>\n",
       "    </tr>\n",
       "    <tr>\n",
       "      <th>Jason</th>\n",
       "      <th>Moore</th>\n",
       "      <th>b5075cf22f983d637daaeaea3fd281c4</th>\n",
       "      <th>40</th>\n",
       "      <td>7</td>\n",
       "    </tr>\n",
       "    <tr>\n",
       "      <th rowspan=\"2\" valign=\"top\">Jennifer</th>\n",
       "      <th>Collins</th>\n",
       "      <th>6c98acd6b8b7d82b2dda93358f7b7d66</th>\n",
       "      <th>80</th>\n",
       "      <td>9</td>\n",
       "    </tr>\n",
       "    <tr>\n",
       "      <th>Jones</th>\n",
       "      <th>d0bf0e4ec96c6f3ba89c8b3061d43afa</th>\n",
       "      <th>47</th>\n",
       "      <td>6</td>\n",
       "    </tr>\n",
       "    <tr>\n",
       "      <th>Jeremy</th>\n",
       "      <th>Shaw</th>\n",
       "      <th>2f40dfd43fa285d19c7262d31e008c81</th>\n",
       "      <th>90</th>\n",
       "      <td>7</td>\n",
       "    </tr>\n",
       "    <tr>\n",
       "      <th>Joanna</th>\n",
       "      <th>Terry</th>\n",
       "      <th>f9477c84df3fa1addf8fb94a5bd41b6c</th>\n",
       "      <th>86</th>\n",
       "      <td>7</td>\n",
       "    </tr>\n",
       "    <tr>\n",
       "      <th>Johnny</th>\n",
       "      <th>Campbell</th>\n",
       "      <th>0cc70fe75f583592ebd844bf22660859</th>\n",
       "      <th>72</th>\n",
       "      <td>8</td>\n",
       "    </tr>\n",
       "    <tr>\n",
       "      <th>Katherine</th>\n",
       "      <th>Johnson</th>\n",
       "      <th>b4ea219b3ca7e51251a24b4226b05d1d</th>\n",
       "      <th>12</th>\n",
       "      <td>8</td>\n",
       "    </tr>\n",
       "    <tr>\n",
       "      <th>Kayla</th>\n",
       "      <th>West</th>\n",
       "      <th>a201a2f75986c62a6a7861c568c01afe</th>\n",
       "      <th>33</th>\n",
       "      <td>8</td>\n",
       "    </tr>\n",
       "    <tr>\n",
       "      <th>Latoya</th>\n",
       "      <th>Smith</th>\n",
       "      <th>a928d28dcb1cb225eece9759355b7bf5</th>\n",
       "      <th>15</th>\n",
       "      <td>9</td>\n",
       "    </tr>\n",
       "    <tr>\n",
       "      <th>Lee</th>\n",
       "      <th>Williams</th>\n",
       "      <th>6e88dc3000d1130acf038bfae39e8116</th>\n",
       "      <th>93</th>\n",
       "      <td>7</td>\n",
       "    </tr>\n",
       "    <tr>\n",
       "      <th>Linda</th>\n",
       "      <th>Kelley</th>\n",
       "      <th>7c6d9cfe9505ce2304207cf96ebe15cc</th>\n",
       "      <th>48</th>\n",
       "      <td>9</td>\n",
       "    </tr>\n",
       "    <tr>\n",
       "      <th rowspan=\"2\" valign=\"top\">Lisa</th>\n",
       "      <th>Mckay</th>\n",
       "      <th>c146b7fba37684f0b397280f9c717687</th>\n",
       "      <th>61</th>\n",
       "      <td>6</td>\n",
       "    </tr>\n",
       "    <tr>\n",
       "      <th>Olsen</th>\n",
       "      <th>4a994706a21b707f115bbbec09eefb05</th>\n",
       "      <th>11</th>\n",
       "      <td>7</td>\n",
       "    </tr>\n",
       "    <tr>\n",
       "      <th>Manuel</th>\n",
       "      <th>Anderson</th>\n",
       "      <th>6e66f2f4bff15fa9719fb34bc10dbdf3</th>\n",
       "      <th>85</th>\n",
       "      <td>6</td>\n",
       "    </tr>\n",
       "    <tr>\n",
       "      <th>Melissa</th>\n",
       "      <th>Cooke</th>\n",
       "      <th>5bce1b9e424cf4f54946e4a705d27f74</th>\n",
       "      <th>66</th>\n",
       "      <td>6</td>\n",
       "    </tr>\n",
       "    <tr>\n",
       "      <th>Melvin</th>\n",
       "      <th>Stone</th>\n",
       "      <th>e6deb931b67402a69947e84a7f92de29</th>\n",
       "      <th>13</th>\n",
       "      <td>5</td>\n",
       "    </tr>\n",
       "    <tr>\n",
       "      <th>Meredith</th>\n",
       "      <th>French</th>\n",
       "      <th>98184d7fe4f3610f628d7e98fa7af09d</th>\n",
       "      <th>89</th>\n",
       "      <td>9</td>\n",
       "    </tr>\n",
       "    <tr>\n",
       "      <th>Michelle</th>\n",
       "      <th>Bridges</th>\n",
       "      <th>80badfc300534d4506fb7404263981a1</th>\n",
       "      <th>23</th>\n",
       "      <td>7</td>\n",
       "    </tr>\n",
       "    <tr>\n",
       "      <th>Nichole</th>\n",
       "      <th>Morris</th>\n",
       "      <th>585265c94b51e011901e46c0c348ad45</th>\n",
       "      <th>62</th>\n",
       "      <td>7</td>\n",
       "    </tr>\n",
       "    <tr>\n",
       "      <th>Olivia</th>\n",
       "      <th>Hudson</th>\n",
       "      <th>335444f3cbb088d2ed90ef32bd456555</th>\n",
       "      <th>100</th>\n",
       "      <td>8</td>\n",
       "    </tr>\n",
       "    <tr>\n",
       "      <th>Paul</th>\n",
       "      <th>Smith</th>\n",
       "      <th>03fab0b43d2e3b7f59b991b5cc0d47c6</th>\n",
       "      <th>14</th>\n",
       "      <td>8</td>\n",
       "    </tr>\n",
       "    <tr>\n",
       "      <th>Regina</th>\n",
       "      <th>Barber</th>\n",
       "      <th>8eb7b87ac1f3fc59e067a0d1162aab43</th>\n",
       "      <th>84</th>\n",
       "      <td>6</td>\n",
       "    </tr>\n",
       "    <tr>\n",
       "      <th>Richard</th>\n",
       "      <th>Peterson</th>\n",
       "      <th>c637e9b68f817c6e2282aa124846a6ae</th>\n",
       "      <th>25</th>\n",
       "      <td>8</td>\n",
       "    </tr>\n",
       "    <tr>\n",
       "      <th rowspan=\"3\" valign=\"top\">Ryan</th>\n",
       "      <th>Le</th>\n",
       "      <th>ce4959a23975d2833727c49b63bcbc7c</th>\n",
       "      <th>98</th>\n",
       "      <td>8</td>\n",
       "    </tr>\n",
       "    <tr>\n",
       "      <th>Robinson</th>\n",
       "      <th>e1d7f957f110ac7b8a2d564096cf9a49</th>\n",
       "      <th>64</th>\n",
       "      <td>6</td>\n",
       "    </tr>\n",
       "    <tr>\n",
       "      <th>Terrell</th>\n",
       "      <th>f7b1672d53d0ae4b07021aea9cf9f143</th>\n",
       "      <th>70</th>\n",
       "      <td>6</td>\n",
       "    </tr>\n",
       "    <tr>\n",
       "      <th>Sara</th>\n",
       "      <th>Ramirez</th>\n",
       "      <th>84d79088d5b6c337797b414f0a537413</th>\n",
       "      <th>1</th>\n",
       "      <td>9</td>\n",
       "    </tr>\n",
       "    <tr>\n",
       "      <th>Shelby</th>\n",
       "      <th>Osborn</th>\n",
       "      <th>8503336e0f3a2be920984c4f9c6db980</th>\n",
       "      <th>44</th>\n",
       "      <td>5</td>\n",
       "    </tr>\n",
       "    <tr>\n",
       "      <th>Steven</th>\n",
       "      <th>Richard</th>\n",
       "      <th>77fcee2714d485a53c410c43d5010dec</th>\n",
       "      <th>65</th>\n",
       "      <td>7</td>\n",
       "    </tr>\n",
       "    <tr>\n",
       "      <th>Tanya</th>\n",
       "      <th>Holmes</th>\n",
       "      <th>974007ae906d87dc269cf273e6c67e01</th>\n",
       "      <th>8</th>\n",
       "      <td>6</td>\n",
       "    </tr>\n",
       "    <tr>\n",
       "      <th>Thomas</th>\n",
       "      <th>Montgomery</th>\n",
       "      <th>2a011e8e05b91ce7c5fda8fb679506f1</th>\n",
       "      <th>68</th>\n",
       "      <td>8</td>\n",
       "    </tr>\n",
       "    <tr>\n",
       "      <th rowspan=\"2\" valign=\"top\">Travis</th>\n",
       "      <th>Barnes</th>\n",
       "      <th>bc20d5b5cbf6d2a76dd4b2624a76b2e8</th>\n",
       "      <th>28</th>\n",
       "      <td>7</td>\n",
       "    </tr>\n",
       "    <tr>\n",
       "      <th>Phelps</th>\n",
       "      <th>a750ecf95c82cc5ff2d2124339ed8884</th>\n",
       "      <th>75</th>\n",
       "      <td>7</td>\n",
       "    </tr>\n",
       "  </tbody>\n",
       "</table>\n",
       "</div>"
      ],
      "text/plain": [
       "                                                                    orders placed by user\n",
       "first_name last_name  email                            customer_id                       \n",
       "Alexandria Alvarado   6c5e7059be20c0fc930df3624e16f9a7 5                                4\n",
       "Alicia     Martinez   73d4e1335c8b73f4498e6626791ae013 63                               6\n",
       "Angela     Oneal      f2137375b2faa52d3c598b0963187c9a 29                               7\n",
       "           Taylor     10b39830a7ba957429d57e89ad7a4feb 20                               9\n",
       "Beverly    Barnes     79a0ea032f92e7993ea7431f2a582b5e 19                               5\n",
       "Brian      Riley      32c074fa19009a10e6a906b960151c4b 83                               8\n",
       "Brooke     Brown      56d085f32f17825b3f70c4529803a7ed 32                               9\n",
       "Charles    Randall    7648732290f1d67c958bad1dff4f46d5 73                               7\n",
       "Dale       Sanders    f4dbaf5d6abecd487f82334edec609b1 77                               7\n",
       "David      Collins    050ec448b62eb2f80f05d84e477fa1d8 39                               8\n",
       "Dennis     Knapp      ca529c3ef1f75771b2cf6e1daebe53e3 57                               9\n",
       "Francis    Smith      1ba4b9f41b984914a39f915800427e37 27                               9\n",
       "Heather    Dennis     7a1dc931bb736ddcac1426bd7de5db51 59                               9\n",
       "Hector     Hayden     edd568df453b10c43d9406864047d088 37                               9\n",
       "James      Washington 71a32f6bd1ba1407a89a7d42323391a0 10                               8\n",
       "Jamie      Shah       a7adaec26ca18e56b58f1d3bcf356997 53                               9\n",
       "Jason      Moore      b5075cf22f983d637daaeaea3fd281c4 40                               7\n",
       "Jennifer   Collins    6c98acd6b8b7d82b2dda93358f7b7d66 80                               9\n",
       "           Jones      d0bf0e4ec96c6f3ba89c8b3061d43afa 47                               6\n",
       "Jeremy     Shaw       2f40dfd43fa285d19c7262d31e008c81 90                               7\n",
       "Joanna     Terry      f9477c84df3fa1addf8fb94a5bd41b6c 86                               7\n",
       "Johnny     Campbell   0cc70fe75f583592ebd844bf22660859 72                               8\n",
       "Katherine  Johnson    b4ea219b3ca7e51251a24b4226b05d1d 12                               8\n",
       "Kayla      West       a201a2f75986c62a6a7861c568c01afe 33                               8\n",
       "Latoya     Smith      a928d28dcb1cb225eece9759355b7bf5 15                               9\n",
       "Lee        Williams   6e88dc3000d1130acf038bfae39e8116 93                               7\n",
       "Linda      Kelley     7c6d9cfe9505ce2304207cf96ebe15cc 48                               9\n",
       "Lisa       Mckay      c146b7fba37684f0b397280f9c717687 61                               6\n",
       "           Olsen      4a994706a21b707f115bbbec09eefb05 11                               7\n",
       "Manuel     Anderson   6e66f2f4bff15fa9719fb34bc10dbdf3 85                               6\n",
       "Melissa    Cooke      5bce1b9e424cf4f54946e4a705d27f74 66                               6\n",
       "Melvin     Stone      e6deb931b67402a69947e84a7f92de29 13                               5\n",
       "Meredith   French     98184d7fe4f3610f628d7e98fa7af09d 89                               9\n",
       "Michelle   Bridges    80badfc300534d4506fb7404263981a1 23                               7\n",
       "Nichole    Morris     585265c94b51e011901e46c0c348ad45 62                               7\n",
       "Olivia     Hudson     335444f3cbb088d2ed90ef32bd456555 100                              8\n",
       "Paul       Smith      03fab0b43d2e3b7f59b991b5cc0d47c6 14                               8\n",
       "Regina     Barber     8eb7b87ac1f3fc59e067a0d1162aab43 84                               6\n",
       "Richard    Peterson   c637e9b68f817c6e2282aa124846a6ae 25                               8\n",
       "Ryan       Le         ce4959a23975d2833727c49b63bcbc7c 98                               8\n",
       "           Robinson   e1d7f957f110ac7b8a2d564096cf9a49 64                               6\n",
       "           Terrell    f7b1672d53d0ae4b07021aea9cf9f143 70                               6\n",
       "Sara       Ramirez    84d79088d5b6c337797b414f0a537413 1                                9\n",
       "Shelby     Osborn     8503336e0f3a2be920984c4f9c6db980 44                               5\n",
       "Steven     Richard    77fcee2714d485a53c410c43d5010dec 65                               7\n",
       "Tanya      Holmes     974007ae906d87dc269cf273e6c67e01 8                                6\n",
       "Thomas     Montgomery 2a011e8e05b91ce7c5fda8fb679506f1 68                               8\n",
       "Travis     Barnes     bc20d5b5cbf6d2a76dd4b2624a76b2e8 28                               7\n",
       "           Phelps     a750ecf95c82cc5ff2d2124339ed8884 75                               7"
      ]
     },
     "execution_count": 589,
     "metadata": {},
     "output_type": "execute_result"
    }
   ],
   "source": [
    "order_by_user"
   ]
  },
  {
   "cell_type": "markdown",
   "metadata": {},
   "source": [
    "# Converting Dataframe into an Excel file"
   ]
  },
  {
   "cell_type": "code",
   "execution_count": 590,
   "metadata": {},
   "outputs": [],
   "source": [
    "order_by_user.to_csv('C:\\\\Users\\\\sreeram\\\\Desktop\\\\personal info\\\\FoodHub\\\\Users_placed_less_than 10 orders.csv')"
   ]
  },
  {
   "cell_type": "markdown",
   "metadata": {},
   "source": [
    "User details who have placed less than 10 orders has been exported to CSV file format"
   ]
  },
  {
   "cell_type": "code",
   "execution_count": null,
   "metadata": {},
   "outputs": [],
   "source": []
  }
 ],
 "metadata": {
  "kernelspec": {
   "display_name": "Python 3",
   "language": "python",
   "name": "python3"
  },
  "language_info": {
   "codemirror_mode": {
    "name": "ipython",
    "version": 3
   },
   "file_extension": ".py",
   "mimetype": "text/x-python",
   "name": "python",
   "nbconvert_exporter": "python",
   "pygments_lexer": "ipython3",
   "version": "3.7.3"
  }
 },
 "nbformat": 4,
 "nbformat_minor": 2
}
